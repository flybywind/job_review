{
 "cells": [
  {
   "cell_type": "code",
   "execution_count": 1,
   "metadata": {},
   "outputs": [],
   "source": [
    "import requests"
   ]
  },
  {
   "cell_type": "code",
   "execution_count": 4,
   "metadata": {},
   "outputs": [
    {
     "data": {
      "text/plain": [
       "<Response [200]>"
      ]
     },
     "execution_count": 4,
     "metadata": {},
     "output_type": "execute_result"
    }
   ],
   "source": [
    "url = \"https://gist.githubusercontent.com/pxsdirac/940436aa85580ac3d72a8cce8cbcc022/raw/aeb7da0710bb87b5106b7b564f40ac4c538fc9a5/movie.csv\"\n",
    "resp = requests.get(url)\n",
    "resp"
   ]
  },
  {
   "cell_type": "code",
   "execution_count": 14,
   "metadata": {},
   "outputs": [],
   "source": [
    "from collections import namedtuple\n"
   ]
  },
  {
   "cell_type": "code",
   "execution_count": 15,
   "metadata": {},
   "outputs": [],
   "source": [
    "lines = resp.content.decode('utf8').split('\\n')\n",
    "header = lines[0].split(',')\n",
    "Movie = namedtuple('Movie', header)"
   ]
  },
  {
   "cell_type": "code",
   "execution_count": 58,
   "metadata": {},
   "outputs": [],
   "source": [
    "import sys\n",
    "class Movie:\n",
    "    def __init__(self, name, running_time, rating, title):\n",
    "        try:\n",
    "            self.name = str(name)\n",
    "            self.running_time = float(running_time)\n",
    "            self.rating = float(rating)\n",
    "            self.title = str(title)\n",
    "        except:\n",
    "            print(f\"invalid row: {name}, {running_time}, {rating}, {title}\", file=sys.stderr)\n",
    "    \n",
    "    def __lt__(self, another) -> bool:\n",
    "        return self.rating > another.rating\n",
    "\n",
    "    def __repr__(self) -> str:\n",
    "        return f\"name: {self.name}, title: {self.title}, rating: {self.rating}\""
   ]
  },
  {
   "cell_type": "code",
   "execution_count": 17,
   "metadata": {},
   "outputs": [
    {
     "data": {
      "text/plain": [
       "['name', 'running_time', 'rating', 'title']"
      ]
     },
     "execution_count": 17,
     "metadata": {},
     "output_type": "execute_result"
    }
   ],
   "source": [
    "header"
   ]
  },
  {
   "cell_type": "code",
   "execution_count": 2,
   "metadata": {},
   "outputs": [],
   "source": [
    "from typing import List \n",
    "def parse_csv(line:str) -> List[str]:\n",
    "    dp = line.find('\"')\n",
    "    if dp == -1:\n",
    "        return line.split(',')\n",
    "    else:\n",
    "        ret = []\n",
    "        dp = -1\n",
    "        s, i = 0, 0\n",
    "        while i < len(line):\n",
    "            c = line[i]\n",
    "            # print(f\"{i}\")\n",
    "            if c == '\"' and dp == -1: # find first \"\n",
    "                dp = i\n",
    "                # print(f\"first {dp}\")\n",
    "                i += 1\n",
    "                continue\n",
    "            if dp >= 0 and c == '\"':\n",
    "                # print(f\"{dp}, {i}\")\n",
    "                ret.append(line[dp+1:i])\n",
    "                dp = -1\n",
    "                i += 1\n",
    "                if i < len(line):\n",
    "                    if line[i] == ',':\n",
    "                        i += 1\n",
    "                s = i\n",
    "                continue\n",
    "            if c == ',':\n",
    "                if dp >= 0: # inside one double quote\n",
    "                    i += 1\n",
    "                    continue\n",
    "                \n",
    "                # print(f\"first norm field: {s}, {i}\")\n",
    "                ret.append(line[s:i])\n",
    "                s = i+1\n",
    "                \n",
    "            i += 1\n",
    "        if s < len(line):\n",
    "            ret.append(line[s:])\n",
    "    return ret"
   ]
  },
  {
   "cell_type": "code",
   "execution_count": 3,
   "metadata": {},
   "outputs": [
    {
     "name": "stdout",
     "output_type": "stream",
     "text": [
      "['a', 'b', 'c', 'd']\n",
      "['27, most popular', '127.6053254325764', '6.03051434574081', 'title of movie27']\n",
      "['26', '74.64905326075485', '1.6806938100374067', 'The HD-remastered classic 60s crime universe of Gotham Citys fiercest fighter, Batman, comes to life with Robin, Catwoman, the Joker and more.']\n"
     ]
    }
   ],
   "source": [
    "print(parse_csv(\"a,b,c,d\"))\n",
    "print(parse_csv('\"27, most popular\",127.6053254325764,6.03051434574081,title of movie27'))\n",
    "print(parse_csv('26,74.64905326075485,1.6806938100374067,\"The HD-remastered classic 60s crime universe of Gotham Citys fiercest fighter, Batman, comes to life with Robin, Catwoman, the Joker and more.\"'))"
   ]
  },
  {
   "cell_type": "code",
   "execution_count": 59,
   "metadata": {},
   "outputs": [
    {
     "name": "stdout",
     "output_type": "stream",
     "text": [
      "invalid line: \"27, most popular\",127.6053254325764,6.03051434574081,title of movie27\n"
     ]
    }
   ],
   "source": [
    "movie_rows = []\n",
    "col_num = len(header)\n",
    "for line in lines[1:]:\n",
    "    col = parse_csv(line)\n",
    "    if len(col) == col_num:\n",
    "        mv = Movie(*col)\n",
    "        movie_rows.append(mv)\n",
    "    else:\n",
    "        print(f\"invalid line: {line}\")\n",
    "    "
   ]
  },
  {
   "cell_type": "code",
   "execution_count": 60,
   "metadata": {},
   "outputs": [
    {
     "data": {
      "text/plain": [
       "[name: 111, title: title of movie111, rating: 10.0,\n",
       " name: 113, title: title of movie113, rating: 10.0,\n",
       " name: 152, title: title of movie152, rating: 10.0,\n",
       " name: 187, title: title of movie187, rating: 10.0,\n",
       " name: 216, title: title of movie216, rating: 10.0,\n",
       " name: 239, title: title of movie239, rating: 10.0,\n",
       " name: 253, title: title of movie253, rating: 10.0,\n",
       " name: 286, title: title of movie286, rating: 10.0,\n",
       " name: 519, title: title of movie519, rating: 10.0,\n",
       " name: 520, title: title of movie520, rating: 10.0]"
      ]
     },
     "execution_count": 60,
     "metadata": {},
     "output_type": "execute_result"
    }
   ],
   "source": [
    "sorted(movie_rows)[:10]"
   ]
  }
 ],
 "metadata": {
  "kernelspec": {
   "display_name": "Python 3",
   "language": "python",
   "name": "python3"
  },
  "language_info": {
   "codemirror_mode": {
    "name": "ipython",
    "version": 3
   },
   "file_extension": ".py",
   "mimetype": "text/x-python",
   "name": "python",
   "nbconvert_exporter": "python",
   "pygments_lexer": "ipython3",
   "version": "3.11.3"
  },
  "orig_nbformat": 4
 },
 "nbformat": 4,
 "nbformat_minor": 2
}
